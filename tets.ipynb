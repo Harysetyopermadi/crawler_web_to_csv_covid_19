{
 "cells": [
  {
   "cell_type": "code",
   "execution_count": 1,
   "metadata": {},
   "outputs": [],
   "source": [
    "\n",
    "# import required modules\n",
    "import pandas as pd\n",
    "import csv\n",
    "  \n",
    "# assign header columns\n",
    "headerList = ['col1', 'col2', 'col3', 'col4']\n",
    "  \n",
    "# open CSV file and assign header\n",
    "with open(\"gfg3.csv\", 'w') as file:\n",
    "    dw = csv.DictWriter(file, delimiter=',', \n",
    "                        fieldnames=headerList)\n",
    "    dw.writeheader()"
   ]
  }
 ],
 "metadata": {
  "kernelspec": {
   "display_name": "Python 3",
   "language": "python",
   "name": "python3"
  },
  "language_info": {
   "codemirror_mode": {
    "name": "ipython",
    "version": 3
   },
   "file_extension": ".py",
   "mimetype": "text/x-python",
   "name": "python",
   "nbconvert_exporter": "python",
   "pygments_lexer": "ipython3",
   "version": "3.10.9"
  },
  "orig_nbformat": 4,
  "vscode": {
   "interpreter": {
    "hash": "b43686439b8373f154c59375be6c321a2b71b47b52055ed6181d8ce08a3ba1ee"
   }
  }
 },
 "nbformat": 4,
 "nbformat_minor": 2
}
